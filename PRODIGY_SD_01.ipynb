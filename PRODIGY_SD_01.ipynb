{
  "nbformat": 4,
  "nbformat_minor": 0,
  "metadata": {
    "colab": {
      "provenance": [],
      "authorship_tag": "ABX9TyP6KJmZWuw4sy9WbYI6dGy2",
      "include_colab_link": true
    },
    "kernelspec": {
      "name": "python3",
      "display_name": "Python 3"
    },
    "language_info": {
      "name": "python"
    }
  },
  "cells": [
    {
      "cell_type": "markdown",
      "metadata": {
        "id": "view-in-github",
        "colab_type": "text"
      },
      "source": [
        "<a href=\"https://colab.research.google.com/github/harika140/PRODIGY_SD_01/blob/main/PRODIGY_SD_01.ipynb\" target=\"_parent\"><img src=\"https://colab.research.google.com/assets/colab-badge.svg\" alt=\"Open In Colab\"/></a>"
      ]
    },
    {
      "cell_type": "code",
      "source": [
        "def celsius_to_fahrenheit(celsius):\n",
        "    return (celsius * 9/5) + 32\n",
        "\n",
        "def celsius_to_kelvin(celsius):\n",
        "    return celsius + 273.15\n",
        "\n",
        "def fahrenheit_to_celsius(fahrenheit):\n",
        "    return (fahrenheit - 32) * 5/9\n",
        "\n",
        "def fahrenheit_to_kelvin(fahrenheit):\n",
        "    return (fahrenheit - 32) * 5/9 + 273.15\n",
        "\n",
        "def kelvin_to_celsius(kelvin):\n",
        "    return kelvin - 273.15\n",
        "\n",
        "def kelvin_to_fahrenheit(kelvin):\n",
        "    return (kelvin - 273.15) * 9/5 + 32\n",
        "\n",
        "def temperature_conversion():\n",
        "    while True:\n",
        "        print(\"\\nWelcome to the Temperature Conversion Program!\")\n",
        "        print(\"Choose the original unit of measurement:\")\n",
        "        print(\"1. Celsius\\n2. Fahrenheit\\n3. Kelvin\")\n",
        "\n",
        "        try:\n",
        "            choice = int(input(\"Enter your choice (1/2/3): \"))\n",
        "\n",
        "            # Handle Celsius input with a confirmation loop\n",
        "            if choice == 1:\n",
        "                while True:\n",
        "                    temp_value = float(input(\"Enter the temperature value in Celsius: \"))\n",
        "                    confirm = input(f\"You entered {temp_value} °C. Is this correct? (yes/no): \").strip().lower()\n",
        "                    if confirm == 'yes':\n",
        "                        break\n",
        "\n",
        "                fahrenheit = celsius_to_fahrenheit(temp_value)\n",
        "                kelvin = celsius_to_kelvin(temp_value)\n",
        "                print(f\"\\n{temp_value} °C is:\")\n",
        "                print(f\"{fahrenheit:.2f} °F\")\n",
        "                print(f\"{kelvin:.2f} K\")\n",
        "\n",
        "            elif choice == 2:\n",
        "                temp_value = float(input(\"Enter the temperature value in Fahrenheit: \"))\n",
        "                celsius = fahrenheit_to_celsius(temp_value)\n",
        "                kelvin = fahrenheit_to_kelvin(temp_value)\n",
        "                print(f\"\\n{temp_value} °F is:\")\n",
        "                print(f\"{celsius:.2f} °C\")\n",
        "                print(f\"{kelvin:.2f} K\")\n",
        "\n",
        "            elif choice == 3:\n",
        "                temp_value = float(input(\"Enter the temperature value in Kelvin: \"))\n",
        "                celsius = kelvin_to_celsius(temp_value)\n",
        "                fahrenheit = kelvin_to_fahrenheit(temp_value)\n",
        "                print(f\"\\n{temp_value} K is:\")\n",
        "                print(f\"{celsius:.2f} °C\")\n",
        "                print(f\"{fahrenheit:.2f} °F\")\n",
        "\n",
        "            else:\n",
        "                print(\"Invalid choice. Please select 1, 2, or 3.\")\n",
        "\n",
        "        except ValueError:\n",
        "            print(\"Invalid input. Please enter numeric values.\")\n",
        "\n",
        "        again = input(\"\\nDo you want to convert another temperature? (yes/no): \")\n",
        "        if again.lower() != 'yes':\n",
        "            print(\"Thank you for using the Temperature Conversion Program!\")\n",
        "            break\n",
        "if __name__ == \"__main__\":\n",
        "    temperature_conversion()"
      ],
      "metadata": {
        "id": "Zjd2UKGnHTo_",
        "outputId": "80438e88-5c82-4cd7-d4eb-44d0245945e8",
        "colab": {
          "base_uri": "https://localhost:8080/"
        }
      },
      "execution_count": null,
      "outputs": [
        {
          "metadata": {
            "tags": null
          },
          "name": "stdout",
          "output_type": "stream",
          "text": [
            "\n",
            "Welcome to the Temperature Conversion Program!\n",
            "Choose the original unit of measurement:\n",
            "1. Celsius\n",
            "2. Fahrenheit\n",
            "3. Kelvin\n"
          ]
        }
      ]
    },
    {
      "cell_type": "code",
      "source": [],
      "metadata": {
        "id": "KSGKWGI-JOQO"
      },
      "execution_count": null,
      "outputs": []
    }
  ]
}