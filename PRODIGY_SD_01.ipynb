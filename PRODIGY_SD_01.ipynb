{
  "nbformat": 4,
  "nbformat_minor": 0,
  "metadata": {
    "colab": {
      "provenance": []
    },
    "kernelspec": {
      "name": "python3",
      "display_name": "Python 3"
    },
    "language_info": {
      "name": "python"
    }
  },
  "cells": [
    {
      "cell_type": "code",
      "source": [
        "def celsius_to_fahrenheit(celsius):\n",
        "    return (celsius * 9/5) + 32\n",
        "\n",
        "def celsius_to_kelvin(celsius):\n",
        "    return celsius + 273.15\n",
        "\n",
        "def fahrenheit_to_celsius(fahrenheit):\n",
        "    return (fahrenheit - 32) * 5/9\n",
        "\n",
        "def fahrenheit_to_kelvin(fahrenheit):\n",
        "    return (fahrenheit - 32) * 5/9 + 273.15\n",
        "\n",
        "def kelvin_to_celsius(kelvin):\n",
        "    return kelvin - 273.15\n",
        "\n",
        "def kelvin_to_fahrenheit(kelvin):\n",
        "    return (kelvin - 273.15) * 9/5 + 32\n",
        "\n",
        "def temperature_conversion():\n",
        "    while True:\n",
        "        print(\"\\nWelcome to the Temperature Conversion Program!\")\n",
        "        print(\"Choose the original unit of measurement:\")\n",
        "        print(\"1. Celsius\\n2. Fahrenheit\\n3. Kelvin\")\n",
        "\n",
        "        try:\n",
        "            choice = int(input(\"Enter your choice (1/2/3): \"))\n",
        "\n",
        "            # Handle Celsius input with a confirmation loop\n",
        "            if choice == 1:\n",
        "                while True:\n",
        "                    temp_value = float(input(\"Enter the temperature value in Celsius: \"))\n",
        "                    confirm = input(f\"You entered {temp_value} °C. Is this correct? (yes/no): \").strip().lower()\n",
        "                    if confirm == 'yes':\n",
        "                        break\n",
        "\n",
        "                fahrenheit = celsius_to_fahrenheit(temp_value)\n",
        "                kelvin = celsius_to_kelvin(temp_value)\n",
        "                print(f\"\\n{temp_value} °C is:\")\n",
        "                print(f\"{fahrenheit:.2f} °F\")\n",
        "                print(f\"{kelvin:.2f} K\")\n",
        "\n",
        "            elif choice == 2:\n",
        "                temp_value = float(input(\"Enter the temperature value in Fahrenheit: \"))\n",
        "                celsius = fahrenheit_to_celsius(temp_value)\n",
        "                kelvin = fahrenheit_to_kelvin(temp_value)\n",
        "                print(f\"\\n{temp_value} °F is:\")\n",
        "                print(f\"{celsius:.2f} °C\")\n",
        "                print(f\"{kelvin:.2f} K\")\n",
        "\n",
        "            elif choice == 3:\n",
        "                temp_value = float(input(\"Enter the temperature value in Kelvin: \"))\n",
        "                celsius = kelvin_to_celsius(temp_value)\n",
        "                fahrenheit = kelvin_to_fahrenheit(temp_value)\n",
        "                print(f\"\\n{temp_value} K is:\")\n",
        "                print(f\"{celsius:.2f} °C\")\n",
        "                print(f\"{fahrenheit:.2f} °F\")\n",
        "\n",
        "            else:\n",
        "                print(\"Invalid choice. Please select 1, 2, or 3.\")\n",
        "\n",
        "        except ValueError:\n",
        "            print(\"Invalid input. Please enter numeric values.\")\n",
        "\n",
        "        again = input(\"\\nDo you want to convert another temperature? (yes/no): \")\n",
        "        if again.lower() != 'yes':\n",
        "            print(\"Thank you for using the Temperature Conversion Program!\")\n",
        "            break\n",
        "\n",
        "if __name__ == \"__main__\": # Change _name_ to __name__\n",
        "    temperature_conversion()3"
      ],
      "metadata": {
        "colab": {
          "base_uri": "https://localhost:8080/"
        },
        "id": "KYxKc_oy5cdZ",
        "outputId": "f790bc91-15c5-401e-ba9c-2862aa809fba"
      },
      "execution_count": null,
      "outputs": [
        {
          "output_type": "stream",
          "name": "stdout",
          "text": [
            "\n",
            "Welcome to the Temperature Conversion Program!\n",
            "Choose the original unit of measurement:\n",
            "1. Celsius\n",
            "2. Fahrenheit\n",
            "3. Kelvin\n",
            "Enter your choice (1/2/3): 3\n",
            "Enter the temperature value in Kelvin: 22\n",
            "\n",
            "22.0 K is:\n",
            "-251.15 °C\n",
            "-420.07 °F\n",
            "\n",
            "Do you want to convert another temperature? (yes/no): yes\n",
            "\n",
            "Welcome to the Temperature Conversion Program!\n",
            "Choose the original unit of measurement:\n",
            "1. Celsius\n",
            "2. Fahrenheit\n",
            "3. Kelvin\n",
            "Enter your choice (1/2/3): 2\n",
            "Enter the temperature value in Fahrenheit: 27\n",
            "\n",
            "27.0 °F is:\n",
            "-2.78 °C\n",
            "270.37 K\n",
            "\n",
            "Do you want to convert another temperature? (yes/no): no\n",
            "Thank you for using the Temperature Conversion Program!\n"
          ]
        }
      ]
    }
  ]
}